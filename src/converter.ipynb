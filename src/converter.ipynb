{
 "metadata": {
  "name": "",
  "signature": "sha256:11f037397d1d9ef2193b7ad4d960ac7cd1873f79d17f9a7d104f282268f855b4"
 },
 "nbformat": 3,
 "nbformat_minor": 0,
 "worksheets": [
  {
   "cells": [
    {
     "cell_type": "code",
     "collapsed": false,
     "input": [
      "import csv\n",
      "import itertools\n",
      "import string"
     ],
     "language": "python",
     "metadata": {},
     "outputs": [],
     "prompt_number": 30
    },
    {
     "cell_type": "markdown",
     "metadata": {},
     "source": [
      "From the csv file there is two row one is keymain which is the trans-unit id list and keyvalue is the translation value for the target tag inside of trans-unit tag. In following it will import the csv file and make a dictionary with the key and value of the file for accessing value by the trans-unit id later.\n",
      "We will later set the target language of translation in tarlan variable like 'en' is for English.\n",
      "\n",
      "More about language https://tranpy.readthedocs.io/en/translate.bitdefender.com/file_formats/xliff.html#language-codes"
     ]
    },
    {
     "cell_type": "code",
     "collapsed": false,
     "input": [
      "keylist = []\n",
      "strmap = {}\n",
      "with open('demo.csv') as csvfile:\n",
      "    reader = csv.DictReader(csvfile)\n",
      "    for row in reader:\n",
      "            keylist.append(row['keymain'])\n",
      "            index = row['keymain']\n",
      "            strmap[index] = row['keyvalue']\n",
      "tarlan = 'es'"
     ],
     "language": "python",
     "metadata": {},
     "outputs": [],
     "prompt_number": 13
    },
    {
     "cell_type": "code",
     "collapsed": false,
     "input": [
      "strmap = dict(map(lambda (key, value):(string.lower(key),value),strmap.items()))"
     ],
     "language": "python",
     "metadata": {},
     "outputs": [],
     "prompt_number": 15
    },
    {
     "cell_type": "markdown",
     "metadata": {},
     "source": [
      "We will import the base xliff file which has proper trans-unit tags with id and source and target tag inside it."
     ]
    },
    {
     "cell_type": "code",
     "collapsed": false,
     "input": [
      "from lxml import etree\n",
      "doc = etree.parse('demo.xliff')\n",
      "docroot = doc.getroot()"
     ],
     "language": "python",
     "metadata": {},
     "outputs": [],
     "prompt_number": 16
    },
    {
     "cell_type": "markdown",
     "metadata": {},
     "source": [
      "Setting all the files of xliff target language to translation language key."
     ]
    },
    {
     "cell_type": "code",
     "collapsed": false,
     "input": [
      "for child in docroot:\n",
      "    child.attrib['target-language'] = tarlan"
     ],
     "language": "python",
     "metadata": {},
     "outputs": [],
     "prompt_number": 17
    },
    {
     "cell_type": "markdown",
     "metadata": {},
     "source": [
      "Here in the loop we find out the child tag of trans-unit and get the id in cid variable and get the expected translation value from the strmap dictionary. Then checking the value exist and replace the target value with the translation value.\n",
      "Here 0 index is source tag and 1 index is target tag if all the trans-unit tag have these both tags inside either empty or with data."
     ]
    },
    {
     "cell_type": "code",
     "collapsed": false,
     "input": [
      "count  = 0\n",
      "for child in docroot:\n",
      "    for childs in child:\n",
      "        for ch in childs:\n",
      "            if ch.get('id') is not None:\n",
      "                cid = ch.get('id').encode(\"utf-8\")\n",
      "                if cid is not None and strmap.has_key(string.lower(cid)):\n",
      "                    value = strmap[string.lower(cid)]\n",
      "                    if value is not None:\n",
      "                        ch[0].text = unicode(value, 'utf-8')\n",
      "                        count += 1\n",
      "doc.write(\"output.xliff\",encoding=\"utf-8\", xml_declaration=True)"
     ],
     "language": "python",
     "metadata": {},
     "outputs": [],
     "prompt_number": 53
    }
   ],
   "metadata": {}
  }
 ]
}
